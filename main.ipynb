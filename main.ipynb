{
 "cells": [
  {
   "cell_type": "code",
   "execution_count": 7,
   "metadata": {},
   "outputs": [],
   "source": [
    "import os\n",
    "import json\n",
    "\n",
    "dct_demo = {}\n",
    "\n",
    "# Especifica el nombre del archivo JSON que quieres crear\n",
    "path = \"data/questions/\"\n",
    "ley = \"21663\"\n",
    "#ley = \"19628\"\n",
    "nombre_archivo =  path + f\"{ley}.json\"\n",
    "\n",
    "# Abre el archivo en modo de escritura y guarda el diccionario como JSON\n",
    "with open(nombre_archivo, 'w', encoding='utf-8') as archivo_json:\n",
    "    json.dump(dct_demo, archivo_json, ensure_ascii=False, indent=4)\n",
    "\n",
    "\n",
    "# Abre el archivo en modo de lectura y carga el contenido en un diccionario\n",
    "with open(nombre_archivo, 'r', encoding='utf-8') as archivo_json:\n",
    "    mi_diccionario = json.load(archivo_json)\n",
    "\n",
    "mi_diccionario"
   ]
  },
  {
   "cell_type": "code",
   "execution_count": 24,
   "metadata": {},
   "outputs": [],
   "source": [
    "import os\n",
    "import json\n",
    "import pandas as pd\n",
    "\n",
    "# Directorios de las carpetas\n",
    "directories = {\n",
    "    \"articulos\": \"data/articles/\",\n",
    "    \"resumen\": \"data/summary/\",\n",
    "    \"preguntas\": \"data/questions/\"\n",
    "}\n",
    "\n",
    "# Leer el archivo CSV y crear un diccionario para mapear los códigos de leyes a sus nombres\n",
    "laws_df = pd.read_csv('data/laws.csv', delimiter=';')\n",
    "laws_dict = dict(zip(laws_df['ley'].astype(str), laws_df['nombre']))\n",
    "\n",
    "# Función para leer archivos JSON de una carpeta y generar un diccionario\n",
    "def load_json_files(directory):\n",
    "    json_dict = {}\n",
    "    for filename in os.listdir(directory):\n",
    "        if filename.endswith('.json'):\n",
    "            file_path = os.path.join(directory, filename)\n",
    "            with open(file_path, 'r', encoding='utf-8') as f:\n",
    "                # Carga el contenido del archivo JSON\n",
    "                json_data = json.load(f)\n",
    "                # Extrae el nombre del archivo sin extensión para usarlo como clave\n",
    "                key = filename.replace('.json', '')\n",
    "                json_dict[key] = json_data\n",
    "    return json_dict\n",
    "\n",
    "# Crear los diccionarios para cada tipo\n",
    "dct_articulos = load_json_files(directories[\"articulos\"])\n",
    "dct_resumen = load_json_files(directories[\"resumen\"])\n",
    "dct_preguntas = load_json_files(directories[\"preguntas\"])\n",
    "\n",
    "\n",
    "# Renombrar diccionarios\n",
    "dct_articulos = {laws_dict[key]: value for key, value in dct_articulos.items() if key in laws_dict}\n",
    "dct_resumen = {laws_dict[key]: value for key, value in dct_resumen.items() if key in laws_dict}\n",
    "dct_preguntas = {laws_dict[key]: value for key, value in dct_preguntas.items() if key in laws_dict}\n",
    "\n",
    "\n"
   ]
  },
  {
   "cell_type": "code",
   "execution_count": 18,
   "metadata": {},
   "outputs": [],
   "source": [
    "# Renombrar las claves de dct_articulos utilizando el mapeo de laws_dict\n",
    "renamed_dct_articulos = {laws_dict[key]: value for key, value in dct_articulos.items() if key in laws_dict}\n"
   ]
  },
  {
   "cell_type": "code",
   "execution_count": 27,
   "metadata": {},
   "outputs": [
    {
     "data": {
      "text/plain": [
       "dict_keys(['Ley Protección de Datos Personales', 'Ley Marco de Ciberseguridad'])"
      ]
     },
     "execution_count": 27,
     "metadata": {},
     "output_type": "execute_result"
    }
   ],
   "source": [
    "dct_preguntas.keys()"
   ]
  },
  {
   "cell_type": "code",
   "execution_count": 22,
   "metadata": {},
   "outputs": [
    {
     "data": {
      "text/plain": [
       "dict_keys(['19628', '21663'])"
      ]
     },
     "execution_count": 22,
     "metadata": {},
     "output_type": "execute_result"
    }
   ],
   "source": [
    "dct_articulos.keys()"
   ]
  }
 ],
 "metadata": {
  "kernelspec": {
   "display_name": "docs-PxIqdmp3-py3.10",
   "language": "python",
   "name": "python3"
  },
  "language_info": {
   "codemirror_mode": {
    "name": "ipython",
    "version": 3
   },
   "file_extension": ".py",
   "mimetype": "text/x-python",
   "name": "python",
   "nbconvert_exporter": "python",
   "pygments_lexer": "ipython3",
   "version": "3.10.11"
  }
 },
 "nbformat": 4,
 "nbformat_minor": 2
}
